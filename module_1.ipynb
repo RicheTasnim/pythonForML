{
  "nbformat": 4,
  "nbformat_minor": 0,
  "metadata": {
    "colab": {
      "provenance": [],
      "authorship_tag": "ABX9TyM5G7Wkvkt61vG/bbWwZYM+",
      "include_colab_link": true
    },
    "kernelspec": {
      "name": "python3",
      "display_name": "Python 3"
    },
    "language_info": {
      "name": "python"
    }
  },
  "cells": [
    {
      "cell_type": "markdown",
      "metadata": {
        "id": "view-in-github",
        "colab_type": "text"
      },
      "source": [
        "<a href=\"https://colab.research.google.com/github/RicheTasnim/pythonForML/blob/main/module_1.ipynb\" target=\"_parent\"><img src=\"https://colab.research.google.com/assets/colab-badge.svg\" alt=\"Open In Colab\"/></a>"
      ]
    },
    {
      "cell_type": "markdown",
      "source": [
        "# Variavles and Data Type"
      ],
      "metadata": {
        "id": "tGZOExxZLu9m"
      }
    },
    {
      "cell_type": "code",
      "source": [
        "phone_number = 45649\n",
        "print(phone_number)"
      ],
      "metadata": {
        "colab": {
          "base_uri": "https://localhost:8080/"
        },
        "id": "LXA9lRoFL1Gz",
        "outputId": "965f8a94-ca7c-4d78-a602-fc248d58659b"
      },
      "execution_count": 1,
      "outputs": [
        {
          "output_type": "stream",
          "name": "stdout",
          "text": [
            "45649\n"
          ]
        }
      ]
    },
    {
      "cell_type": "code",
      "source": [
        "name = \"phitron\"\n",
        "print(name)"
      ],
      "metadata": {
        "colab": {
          "base_uri": "https://localhost:8080/"
        },
        "id": "jr6pzR7xMfsh",
        "outputId": "108e8bf5-9759-42a7-a4d2-3158e049ffa2"
      },
      "execution_count": 2,
      "outputs": [
        {
          "output_type": "stream",
          "name": "stdout",
          "text": [
            "phitron\n"
          ]
        }
      ]
    },
    {
      "cell_type": "code",
      "source": [
        "age = 20\n",
        "height = 5.6\n",
        "name = \"Tasnim\"\n",
        "is_passed = True\n",
        "\n",
        "print(type(age), type(height), type(name), type(is_passed))\n",
        "\n",
        "age = 20.5\n",
        "print(type(age))"
      ],
      "metadata": {
        "colab": {
          "base_uri": "https://localhost:8080/"
        },
        "id": "EK9-vns8MnTc",
        "outputId": "97496595-9eb7-4990-a20c-8cbc4ae5a468"
      },
      "execution_count": 3,
      "outputs": [
        {
          "output_type": "stream",
          "name": "stdout",
          "text": [
            "<class 'int'> <class 'float'> <class 'str'> <class 'bool'>\n",
            "<class 'float'>\n"
          ]
        }
      ]
    },
    {
      "cell_type": "markdown",
      "source": [
        "#Taking Input in Python"
      ],
      "metadata": {
        "id": "r7GlSFffND2q"
      }
    },
    {
      "cell_type": "code",
      "source": [
        "name = input(\"What is your name?\")\n",
        "print(name)"
      ],
      "metadata": {
        "colab": {
          "base_uri": "https://localhost:8080/"
        },
        "id": "94ndyRDlNHp4",
        "outputId": "2dca2eb4-83a6-4016-b6b9-a201a97e2c62"
      },
      "execution_count": 4,
      "outputs": [
        {
          "output_type": "stream",
          "name": "stdout",
          "text": [
            "What is your name?Tasnim\n",
            "Tasnim\n"
          ]
        }
      ]
    },
    {
      "cell_type": "code",
      "source": [
        "age = input(\"Age ?\")\n",
        "print(age, type(age))"
      ],
      "metadata": {
        "colab": {
          "base_uri": "https://localhost:8080/"
        },
        "id": "QT6ca0kBNRIZ",
        "outputId": "ce760087-d071-4e5a-eb78-3619636c964e"
      },
      "execution_count": 5,
      "outputs": [
        {
          "output_type": "stream",
          "name": "stdout",
          "text": [
            "Age ?25.1\n",
            "25.1 <class 'str'>\n"
          ]
        }
      ]
    },
    {
      "cell_type": "code",
      "source": [
        "age = input(\"Age ?\")\n",
        "age = int(age)\n",
        "\n",
        "print(age, type(age))"
      ],
      "metadata": {
        "colab": {
          "base_uri": "https://localhost:8080/"
        },
        "id": "idHrKSNbNupq",
        "outputId": "15f3b44e-37dd-4be8-e035-38c3df8e14de"
      },
      "execution_count": 6,
      "outputs": [
        {
          "output_type": "stream",
          "name": "stdout",
          "text": [
            "Age ?56\n",
            "56 <class 'int'>\n"
          ]
        }
      ]
    },
    {
      "cell_type": "code",
      "source": [
        "height = input(\"Height ?\")\n",
        "print(height, type(height))"
      ],
      "metadata": {
        "colab": {
          "base_uri": "https://localhost:8080/"
        },
        "id": "h_a7gp2KOFgj",
        "outputId": "da2ce6f8-f075-4769-8bf2-8a3dbf6b1369"
      },
      "execution_count": 7,
      "outputs": [
        {
          "output_type": "stream",
          "name": "stdout",
          "text": [
            "Height ?203.8\n",
            "203.8 <class 'str'>\n"
          ]
        }
      ]
    },
    {
      "cell_type": "code",
      "source": [
        "height = float(input(\"Height ?\"))\n",
        "\n",
        "print(height, type(height))\n",
        "height = height + 0.2\n",
        "\n",
        "print(height)"
      ],
      "metadata": {
        "colab": {
          "base_uri": "https://localhost:8080/"
        },
        "id": "CUcIfQYEOQMH",
        "outputId": "f6647e9b-3bc7-4b63-9a05-ebc3784bfd0a"
      },
      "execution_count": 8,
      "outputs": [
        {
          "output_type": "stream",
          "name": "stdout",
          "text": [
            "Height ?20.6\n",
            "20.6 <class 'float'>\n",
            "20.8\n"
          ]
        }
      ]
    },
    {
      "cell_type": "markdown",
      "source": [
        "# Operator in Python"
      ],
      "metadata": {
        "id": "HreDtyK6QHK7"
      }
    },
    {
      "cell_type": "code",
      "source": [
        "x = 10; y = 3\n",
        "\n",
        "sum = x+y\n",
        "sub = x-y\n",
        "mult = x*y\n",
        "div = round(x/y, 2)\n",
        "\n",
        "rem = x % y\n",
        "\n",
        "print(sum, sub, mult, div, rem)"
      ],
      "metadata": {
        "colab": {
          "base_uri": "https://localhost:8080/"
        },
        "id": "OiH_HzY7QN9O",
        "outputId": "f5601158-180a-41f1-cc60-6b1f3da2b049"
      },
      "execution_count": 9,
      "outputs": [
        {
          "output_type": "stream",
          "name": "stdout",
          "text": [
            "13 7 30 3.33 1\n"
          ]
        }
      ]
    },
    {
      "cell_type": "code",
      "source": [
        "x = 10; y = 3\n",
        "\n",
        "greater_than = x > y\n",
        "greater_than_equal = (10 >= 10)\n",
        "print(greater_than, greater_than_equal)\n",
        "\n",
        "less_than = x < y\n",
        "less_than_equal = (10 <= 10)\n",
        "print(less_than, less_than_equal)\n",
        "\n",
        "equal = x==y\n",
        "print(equal)\n",
        "\n",
        "not_equal = x != y\n",
        "print(not_equal)"
      ],
      "metadata": {
        "colab": {
          "base_uri": "https://localhost:8080/"
        },
        "id": "lP0aAXBqQw1r",
        "outputId": "8da537b8-fe44-422e-d0e2-8e38bcaf0168"
      },
      "execution_count": 10,
      "outputs": [
        {
          "output_type": "stream",
          "name": "stdout",
          "text": [
            "True True\n",
            "False True\n",
            "False\n",
            "True\n"
          ]
        }
      ]
    },
    {
      "cell_type": "markdown",
      "source": [
        "# Logical Operator"
      ],
      "metadata": {
        "id": "YEJochyDRnJE"
      }
    },
    {
      "cell_type": "code",
      "source": [
        "x = 10; y = 5; z = 3\n",
        "result = (x > y) and (x > z)\n",
        "print(result)"
      ],
      "metadata": {
        "colab": {
          "base_uri": "https://localhost:8080/"
        },
        "id": "89m97lQERrRF",
        "outputId": "30c89d03-609b-493a-b41c-936d27407210"
      },
      "execution_count": 11,
      "outputs": [
        {
          "output_type": "stream",
          "name": "stdout",
          "text": [
            "True\n"
          ]
        }
      ]
    },
    {
      "cell_type": "code",
      "source": [
        "x = 10; y = 5; z = 15\n",
        "result = (x > y) and (x > z)\n",
        "print(result)"
      ],
      "metadata": {
        "colab": {
          "base_uri": "https://localhost:8080/"
        },
        "id": "c8vCNnA0R742",
        "outputId": "681bc598-58d3-4f97-8a51-1b6dd569e263"
      },
      "execution_count": 12,
      "outputs": [
        {
          "output_type": "stream",
          "name": "stdout",
          "text": [
            "False\n"
          ]
        }
      ]
    },
    {
      "cell_type": "code",
      "source": [
        "x = 10; y = 20; z = 15\n",
        "result = (x > y) or (x > z)\n",
        "print(result)"
      ],
      "metadata": {
        "colab": {
          "base_uri": "https://localhost:8080/"
        },
        "id": "FlleJRciSLbF",
        "outputId": "c48c6eda-7d7b-4885-82c6-137d84b4190f"
      },
      "execution_count": 13,
      "outputs": [
        {
          "output_type": "stream",
          "name": "stdout",
          "text": [
            "False\n"
          ]
        }
      ]
    },
    {
      "cell_type": "markdown",
      "source": [
        "# Precedence and Assoiciativity"
      ],
      "metadata": {
        "id": "NzOy613ySZQ9"
      }
    },
    {
      "cell_type": "code",
      "source": [
        "eq = 10 + 10/2 - 5*2\n",
        "print(eq)\n",
        "\n",
        "eq = (10+10)/2 - 5*2\n",
        "print(eq)"
      ],
      "metadata": {
        "colab": {
          "base_uri": "https://localhost:8080/"
        },
        "id": "bWC3wA4fSdlT",
        "outputId": "949e8287-2ab9-4775-9ca5-79a39223a5de"
      },
      "execution_count": 14,
      "outputs": [
        {
          "output_type": "stream",
          "name": "stdout",
          "text": [
            "5.0\n",
            "0.0\n"
          ]
        }
      ]
    },
    {
      "cell_type": "markdown",
      "source": [
        "# Problem : Digit Summation"
      ],
      "metadata": {
        "id": "1a8kTGntSxaM"
      }
    },
    {
      "cell_type": "code",
      "source": [
        "inp = input()\n",
        "numbers = inp.split()\n",
        "x = int(numbers[0])\n",
        "y = int(numbers[1])\n",
        "\n",
        "last_digit_of_x = x % 10\n",
        "last_digit_of_y = y % 10\n",
        "\n",
        "sum = last_digit_of_x + last_digit_of_y\n",
        "\n",
        "print(sum)"
      ],
      "metadata": {
        "colab": {
          "base_uri": "https://localhost:8080/"
        },
        "id": "oP9YbpbPS2hR",
        "outputId": "6efece7e-cf21-408e-a29c-ee37822ce00f"
      },
      "execution_count": 16,
      "outputs": [
        {
          "output_type": "stream",
          "name": "stdout",
          "text": [
            "56 78\n",
            "14\n"
          ]
        }
      ]
    }
  ]
}
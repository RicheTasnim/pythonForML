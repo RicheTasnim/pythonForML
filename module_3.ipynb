{
  "nbformat": 4,
  "nbformat_minor": 0,
  "metadata": {
    "colab": {
      "provenance": [],
      "authorship_tag": "ABX9TyPAtDm8OnLutsyWOSjTpewQ",
      "include_colab_link": true
    },
    "kernelspec": {
      "name": "python3",
      "display_name": "Python 3"
    },
    "language_info": {
      "name": "python"
    }
  },
  "cells": [
    {
      "cell_type": "markdown",
      "metadata": {
        "id": "view-in-github",
        "colab_type": "text"
      },
      "source": [
        "<a href=\"https://colab.research.google.com/github/RicheTasnim/pythonForML/blob/main/module_3.ipynb\" target=\"_parent\"><img src=\"https://colab.research.google.com/assets/colab-badge.svg\" alt=\"Open In Colab\"/></a>"
      ]
    },
    {
      "cell_type": "code",
      "execution_count": 2,
      "metadata": {
        "id": "DHYC67vzbx20"
      },
      "outputs": [],
      "source": [
        "## declaration\n",
        "numbers = [100, 20, 30, 40, 100, 100]\n",
        "float_numbers = [10.20, 3.15, 2.4, 3.5]\n",
        "fruits = ['apple', 'orange', 'lichi']\n",
        "mix = [10, 10.20, 'apple']\n",
        "\n",
        "list_er_moddhe_list = [[100, 20,30], [14,12,31], [13, 12, 12]]"
      ]
    },
    {
      "cell_type": "code",
      "source": [
        "## access\n",
        "\n",
        "print(numbers[2])\n",
        "numbers[2] = 90\n",
        "print(numbers[2])\n",
        "new_list = numbers[0:3]\n",
        "print(new_list)"
      ],
      "metadata": {
        "colab": {
          "base_uri": "https://localhost:8080/"
        },
        "id": "bUsvIbCac4ko",
        "outputId": "dc700c6c-2fb8-4cd9-a1bb-74c08dc86d53"
      },
      "execution_count": 3,
      "outputs": [
        {
          "output_type": "stream",
          "name": "stdout",
          "text": [
            "30\n",
            "90\n",
            "[100, 20, 90]\n"
          ]
        }
      ]
    },
    {
      "cell_type": "code",
      "source": [
        "## modification\n",
        "\n",
        "##adding a item\n",
        "numbers.append(80)\n",
        "print(numbers)\n",
        "\n",
        "##insertion at any position\n",
        "numbers.insert(0, 45)\n",
        "print(numbers)\n",
        "\n",
        "## deleting the last value\n",
        "numbers.pop()\n",
        "\n",
        "print(numbers)"
      ],
      "metadata": {
        "colab": {
          "base_uri": "https://localhost:8080/"
        },
        "id": "lGhOXq1EdLaz",
        "outputId": "9f75e0dd-ba2e-4cc3-f124-ee6918b93a5e"
      },
      "execution_count": 4,
      "outputs": [
        {
          "output_type": "stream",
          "name": "stdout",
          "text": [
            "[100, 20, 90, 40, 100, 100, 80]\n",
            "[45, 100, 20, 90, 40, 100, 100, 80]\n",
            "[45, 100, 20, 90, 40, 100, 100]\n"
          ]
        }
      ]
    },
    {
      "cell_type": "code",
      "source": [
        "numbers.sort()\n",
        "print(numbers)\n",
        "\n",
        "numbers.reverse()\n",
        "print(numbers)"
      ],
      "metadata": {
        "colab": {
          "base_uri": "https://localhost:8080/"
        },
        "id": "v9TrOKPyd-GJ",
        "outputId": "fc971afe-42c0-4cd6-eea2-7f5b74dd20e9"
      },
      "execution_count": 5,
      "outputs": [
        {
          "output_type": "stream",
          "name": "stdout",
          "text": [
            "[20, 40, 45, 90, 100, 100, 100]\n",
            "[100, 100, 100, 90, 45, 40, 20]\n"
          ]
        }
      ]
    },
    {
      "cell_type": "code",
      "source": [
        "numbers.sort(reverse=True)\n",
        "print(numbers)"
      ],
      "metadata": {
        "colab": {
          "base_uri": "https://localhost:8080/"
        },
        "id": "LOzVUkTieW5C",
        "outputId": "c5b69121-0007-4541-f16d-1322a1f46b95"
      },
      "execution_count": 6,
      "outputs": [
        {
          "output_type": "stream",
          "name": "stdout",
          "text": [
            "[100, 100, 100, 90, 45, 40, 20]\n"
          ]
        }
      ]
    },
    {
      "cell_type": "markdown",
      "source": [
        "# List as Stack"
      ],
      "metadata": {
        "id": "o2_5VGf6egU7"
      }
    },
    {
      "cell_type": "code",
      "source": [
        "stack = []\n",
        "\n",
        "#stack e push\n",
        "stack.append(1)\n",
        "stack.append(2)\n",
        "stack.append(3)\n",
        "stack.append(4)\n",
        "stack.append(5)\n",
        "\n",
        "print(f\"top element : {stack[-1]}\")\n",
        "#removing the top elemnt\n",
        "stack.pop()\n",
        "\n",
        "#top element\n",
        "print(f\"top element : {stack[-1]}\")"
      ],
      "metadata": {
        "colab": {
          "base_uri": "https://localhost:8080/"
        },
        "id": "tSOsLdm-ejKK",
        "outputId": "e9680e85-ea4c-46e5-9a59-383a5b745dc2"
      },
      "execution_count": 7,
      "outputs": [
        {
          "output_type": "stream",
          "name": "stdout",
          "text": [
            "top element : 5\n",
            "top element : 4\n"
          ]
        }
      ]
    },
    {
      "cell_type": "markdown",
      "source": [
        "# List as Queue"
      ],
      "metadata": {
        "id": "ZszQjcadf2z_"
      }
    },
    {
      "cell_type": "code",
      "source": [
        "queue = []\n",
        "\n",
        "#insertion\n",
        "queue.append(1)\n",
        "queue.append(2)\n",
        "queue.append(3)\n",
        "queue.append(4)\n",
        "queue.append(5)\n",
        "\n",
        "#remove\n",
        "print(queue.pop(0))\n",
        "\n",
        "# accessing the front element\n",
        "print(f\"front e {queue[0]}\")\n",
        "queue.pop(0)\n",
        "print(f\"front e {queue[0]}\")"
      ],
      "metadata": {
        "colab": {
          "base_uri": "https://localhost:8080/"
        },
        "id": "EFghdO3tf7b4",
        "outputId": "8317a1ff-af2d-43ba-adb4-c412b2ef2bab"
      },
      "execution_count": 9,
      "outputs": [
        {
          "output_type": "stream",
          "name": "stdout",
          "text": [
            "1\n",
            "front e 2\n",
            "front e 3\n"
          ]
        }
      ]
    },
    {
      "cell_type": "markdown",
      "source": [
        "# list comprehension"
      ],
      "metadata": {
        "id": "BnCNmaQYgm1n"
      }
    },
    {
      "cell_type": "code",
      "source": [
        "even = []\n",
        "\n",
        "random_list = [x+10 for x in range(1, 101) if x % 2!=0]\n",
        "print(random_list)"
      ],
      "metadata": {
        "colab": {
          "base_uri": "https://localhost:8080/"
        },
        "id": "Yvusxv03gp2V",
        "outputId": "c8fd8d8b-aeb4-40d7-f9c4-bbfbb0608d9f"
      },
      "execution_count": 10,
      "outputs": [
        {
          "output_type": "stream",
          "name": "stdout",
          "text": [
            "[11, 13, 15, 17, 19, 21, 23, 25, 27, 29, 31, 33, 35, 37, 39, 41, 43, 45, 47, 49, 51, 53, 55, 57, 59, 61, 63, 65, 67, 69, 71, 73, 75, 77, 79, 81, 83, 85, 87, 89, 91, 93, 95, 97, 99, 101, 103, 105, 107, 109]\n"
          ]
        }
      ]
    },
    {
      "cell_type": "code",
      "source": [
        "fruits = ['Apple', 'Orange', 'Litchi']\n",
        "upper_fruits = [fruit.lower() for fruit in fruits]\n",
        "\n",
        "print(upper_fruits)"
      ],
      "metadata": {
        "colab": {
          "base_uri": "https://localhost:8080/"
        },
        "id": "t-7i-YuahBGT",
        "outputId": "d85131b4-a644-43ed-f053-abf963c20649"
      },
      "execution_count": 11,
      "outputs": [
        {
          "output_type": "stream",
          "name": "stdout",
          "text": [
            "['apple', 'orange', 'litchi']\n"
          ]
        }
      ]
    }
  ]
}
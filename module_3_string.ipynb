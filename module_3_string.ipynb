{
  "nbformat": 4,
  "nbformat_minor": 0,
  "metadata": {
    "colab": {
      "provenance": [],
      "authorship_tag": "ABX9TyNSvCklxp/GH+cKO2dxMNxc",
      "include_colab_link": true
    },
    "kernelspec": {
      "name": "python3",
      "display_name": "Python 3"
    },
    "language_info": {
      "name": "python"
    }
  },
  "cells": [
    {
      "cell_type": "markdown",
      "metadata": {
        "id": "view-in-github",
        "colab_type": "text"
      },
      "source": [
        "<a href=\"https://colab.research.google.com/github/RicheTasnim/pythonForML/blob/main/module_3_string.ipynb\" target=\"_parent\"><img src=\"https://colab.research.google.com/assets/colab-badge.svg\" alt=\"Open In Colab\"/></a>"
      ]
    },
    {
      "cell_type": "code",
      "execution_count": null,
      "metadata": {
        "colab": {
          "base_uri": "https://localhost:8080/"
        },
        "id": "c665Pc93v1I-",
        "outputId": "ceb901a7-288d-4a72-e04b-99ce769da5b5"
      },
      "outputs": [
        {
          "output_type": "stream",
          "name": "stdout",
          "text": [
            "what is your name?\n",
            "<class 'str'>\n"
          ]
        }
      ],
      "source": [
        "# single line string\n",
        "\n",
        "prompt = \"what is your name?\"\n",
        "\n",
        "print(prompt)\n",
        "print(type(prompt))"
      ]
    },
    {
      "cell_type": "code",
      "source": [
        "# multi line string\n",
        "\n",
        "message = \"\"\"tell me about yourself?\n",
        "what are the issues you've been facing while learning to code?\n",
        "How are you tackling them?\n",
        "\"\"\"\n",
        "\n",
        "print(message)"
      ],
      "metadata": {
        "colab": {
          "base_uri": "https://localhost:8080/"
        },
        "id": "dDFcGmJEwN4c",
        "outputId": "99d427dd-3846-4ab7-821c-e992cea90685"
      },
      "execution_count": null,
      "outputs": [
        {
          "output_type": "stream",
          "name": "stdout",
          "text": [
            "tell me about yourself?\n",
            "what are the issues you've been facing while learning to code?\n",
            "How are you tackling them?\n",
            "\n"
          ]
        }
      ]
    },
    {
      "cell_type": "markdown",
      "source": [
        "# Indexing and slicing"
      ],
      "metadata": {
        "id": "70rJf6mowmTE"
      }
    },
    {
      "cell_type": "code",
      "source": [
        "string = \"Hello World!\"\n",
        "print(string[9])"
      ],
      "metadata": {
        "colab": {
          "base_uri": "https://localhost:8080/"
        },
        "id": "6BuMMUdNwq4g",
        "outputId": "d2e7fff1-205f-4c3a-bd33-08ebf3240d63"
      },
      "execution_count": null,
      "outputs": [
        {
          "output_type": "stream",
          "name": "stdout",
          "text": [
            "l\n"
          ]
        }
      ]
    },
    {
      "cell_type": "code",
      "source": [
        "first_message = message[0:24]\n",
        "print(first_message)"
      ],
      "metadata": {
        "colab": {
          "base_uri": "https://localhost:8080/"
        },
        "id": "GiqR80Wmw5-Y",
        "outputId": "c9b508a7-2c6e-47c2-8a85-07bda5cdeb6c"
      },
      "execution_count": null,
      "outputs": [
        {
          "output_type": "stream",
          "name": "stdout",
          "text": [
            "tell me about yourself?\n",
            "\n"
          ]
        }
      ]
    },
    {
      "cell_type": "code",
      "source": [
        "from os import pidfd_open\n",
        "print(first_message[-1])\n",
        "print(first_message[-2])\n",
        "print(first_message[-3])\n",
        "print(first_message[-4])\n",
        "print(first_message[-5])"
      ],
      "metadata": {
        "colab": {
          "base_uri": "https://localhost:8080/"
        },
        "id": "Cr967B1CxGWy",
        "outputId": "31952926-4b3d-4518-dc06-4641dfb71a2f"
      },
      "execution_count": null,
      "outputs": [
        {
          "output_type": "stream",
          "name": "stdout",
          "text": [
            "\n",
            "\n",
            "?\n",
            "f\n",
            "l\n",
            "e\n"
          ]
        }
      ]
    },
    {
      "cell_type": "code",
      "source": [
        "new_first_message = first_message[::-1]\n",
        "print(new_first_message)"
      ],
      "metadata": {
        "colab": {
          "base_uri": "https://localhost:8080/"
        },
        "id": "bxnfUFEfxvcF",
        "outputId": "19a85f50-e501-4fd3-e8f8-f2ee4ba20e8a"
      },
      "execution_count": null,
      "outputs": [
        {
          "output_type": "stream",
          "name": "stdout",
          "text": [
            "\n",
            "?flesruoy tuoba em llet\n"
          ]
        }
      ]
    },
    {
      "cell_type": "markdown",
      "source": [
        "# String Methods"
      ],
      "metadata": {
        "id": "d7gB_Fmgx9Gh"
      }
    },
    {
      "cell_type": "code",
      "source": [
        "string = \"Welcome to Phitron ML Course, Phitron ML, Hello ML\"\n",
        "processed_string = string.lower()\n",
        "\n",
        "#length\n",
        "print(len(string))\n",
        "\n",
        "#word ase kina -> bool\n",
        "print(\"phitron\" in processed_string)\n",
        "\n",
        "#shurur kon index theke substring ta shuru hoise\n",
        "shuru_index = processed_string.find(\"Phitron\")\n",
        "\n",
        "#shesher dike kon index theke substring ta shuru hoise\n",
        "shesh_index = processed_string.rfind(\"phitron\")\n",
        "\n",
        "#substring koybar ase\n",
        "count = processed_string.count(\"phitron\")\n",
        "\n",
        "#replace a substring\n",
        "processed_string = string.replace(\"ML\", \"AI/ML\")\n",
        "\n",
        "print(processed_string)"
      ],
      "metadata": {
        "colab": {
          "base_uri": "https://localhost:8080/"
        },
        "id": "SFpsHHD8yAIQ",
        "outputId": "3c62b80b-1dc6-4eaa-d13e-df19e82b3f11"
      },
      "execution_count": null,
      "outputs": [
        {
          "output_type": "stream",
          "name": "stdout",
          "text": [
            "50\n",
            "True\n",
            "Welcome to Phitron AI/ML Course, Phitron AI/ML, Hello AI/ML\n"
          ]
        }
      ]
    },
    {
      "cell_type": "markdown",
      "source": [
        "## Splitting, Joining, Formatted String"
      ],
      "metadata": {
        "id": "L5j7jv_wzUtj"
      }
    },
    {
      "cell_type": "code",
      "source": [
        "prompt = \"What is Phitron?\"\n",
        "tokens = prompt.split()\n",
        "print(type(tokens))\n",
        "\n",
        "sentence = \"-\".join(tokens)\n",
        "print(type(sentence))"
      ],
      "metadata": {
        "colab": {
          "base_uri": "https://localhost:8080/"
        },
        "id": "w1U2OokazZLO",
        "outputId": "98959ffc-f4c7-45b7-b0b0-593237c879b6"
      },
      "execution_count": null,
      "outputs": [
        {
          "output_type": "stream",
          "name": "stdout",
          "text": [
            "<class 'list'>\n",
            "<class 'str'>\n"
          ]
        }
      ]
    },
    {
      "cell_type": "markdown",
      "source": [
        "### Formatted string"
      ],
      "metadata": {
        "id": "PEScZk7zz2OQ"
      }
    },
    {
      "cell_type": "code",
      "source": [
        "from ast import mod\n",
        "name = \"Tasnim\"\n",
        "age = 23\n",
        "height = 5.11123445\n",
        "\n",
        "info = f\"His name is {name.upper()}. He is {age} years old. He is {height:.3} feet tall.\\n\"\n",
        "\n",
        "model_accuracy = 0.83333\n",
        "\n",
        "print(f\"the model accuracy is {model_accuracy}\")"
      ],
      "metadata": {
        "colab": {
          "base_uri": "https://localhost:8080/"
        },
        "id": "0gcdIS3jz49f",
        "outputId": "2d7e3c32-e5b8-4d9c-d589-b574e1898942"
      },
      "execution_count": null,
      "outputs": [
        {
          "output_type": "stream",
          "name": "stdout",
          "text": [
            "the model accuracy is 0.83333\n"
          ]
        }
      ]
    }
  ]
}